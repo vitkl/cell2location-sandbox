{
 "cells": [
  {
   "cell_type": "markdown",
   "metadata": {},
   "source": [
    "# Benchmarking cell2location pyro model using softplus/exp for scales"
   ]
  },
  {
   "cell_type": "code",
   "execution_count": 1,
   "metadata": {},
   "outputs": [],
   "source": [
    "import sys, ast, os\n",
    "#sys.path.insert(1, '/nfs/team205/vk7/sanger_projects/BayraktarLab/cell2location/')\n",
    "sys.path.insert(1, '/nfs/team205/vk7/sanger_projects/BayraktarLab/scvi-tools/')\n",
    "\n",
    "import scanpy as sc\n",
    "import anndata\n",
    "import pandas as pd\n",
    "import numpy as np\n",
    "import os\n",
    "import matplotlib.pyplot as plt \n",
    "import matplotlib as mpl\n",
    "data_type='float32'\n",
    "\n",
    "#import cell2location_model\n",
    "#import cell2location_module_scvi\n",
    "import scvi\n",
    "\n",
    "from matplotlib import rcParams\n",
    "rcParams['pdf.fonttype'] = 42 # enables correct plotting of text\n",
    "import seaborn as sns"
   ]
  },
  {
   "cell_type": "markdown",
   "metadata": {},
   "source": [
    "### The purpose of the notebook is to benchmark several versions of the model using mouse brain data."
   ]
  },
  {
   "cell_type": "code",
   "execution_count": 2,
   "metadata": {},
   "outputs": [],
   "source": [
    "sc_data_folder = '/nfs/team205/vk7/sanger_projects/cell2location_paper/notebooks/selected_data/mouse_visium_snrna/'\n",
    "sp_data_folder = '/nfs/team205/vk7/sanger_projects/cell2location_paper/notebooks/selected_results/benchmarking/with_tissue_zones/data/'\n",
    "results_folder = '/nfs/team205/vk7/sanger_projects/cell2location_paper/notebooks/selected_results/benchmarking/with_tissue_zones/real_mg/pyro/'"
   ]
  },
  {
   "cell_type": "markdown",
   "metadata": {},
   "source": [
    "## Read datasets and train cell2location"
   ]
  },
  {
   "cell_type": "markdown",
   "metadata": {},
   "source": [
    "Data can be downloaded as follows:\n",
    "\n",
    "```bash\n",
    "wget https://cell2location.cog.sanger.ac.uk/paper/synthetic_with_tissue_zones/synth_adata_real_mg_20210131.h5ad\n",
    "wget https://cell2location.cog.sanger.ac.uk/paper/synthetic_with_tissue_zones/training_5705STDY8058280_5705STDY8058281_20210131.h5ad\n",
    "```"
   ]
  },
  {
   "cell_type": "code",
   "execution_count": 3,
   "metadata": {},
   "outputs": [
    {
     "name": "stderr",
     "output_type": "stream",
     "text": [
      "/nfs/team283/vk7/software/miniconda3farm5/envs/scvi-env2/lib/python3.7/site-packages/pandas/core/arrays/categorical.py:2487: FutureWarning: The `inplace` parameter in pandas.Categorical.remove_unused_categories is deprecated and will be removed in a future version.\n",
      "  res = method(*args, **kwargs)\n"
     ]
    }
   ],
   "source": [
    "adata_vis = anndata.read(f'{sp_data_folder}synth_adata_real_mg_20210131.h5ad')\n",
    "adata_vis.uns['spatial'] = {'x': 'y'}\n",
    "adata_vis = adata_vis[adata_vis.obs['sample'].isin([f'exper{i}' for i in range(5,10)]),:]\n",
    "\n",
    "adata_snrna_raw = anndata.read(f'{sp_data_folder}training_5705STDY8058280_5705STDY8058281_20210131.h5ad')"
   ]
  },
  {
   "cell_type": "code",
   "execution_count": 4,
   "metadata": {},
   "outputs": [],
   "source": [
    "import scipy\n",
    "adata_snrna_raw.X = scipy.sparse.csr_matrix(adata_snrna_raw.X)"
   ]
  },
  {
   "cell_type": "raw",
   "metadata": {},
   "source": [
    "adata_vis.X = scipy.sparse.csr_matrix(adata_vis.X)"
   ]
  },
  {
   "cell_type": "markdown",
   "metadata": {},
   "source": [
    "Add counts matrix as `adata.raw` "
   ]
  },
  {
   "cell_type": "code",
   "execution_count": 5,
   "metadata": {},
   "outputs": [],
   "source": [
    "adata_snrna_raw.raw = adata_snrna_raw\n",
    "adata_vis.raw = adata_vis"
   ]
  },
  {
   "cell_type": "code",
   "execution_count": 6,
   "metadata": {},
   "outputs": [],
   "source": [
    "# compute average for each cluster\n",
    "aver = scvi.external.cell2location.compute_cluster_averages(adata_snrna_raw, 'annotation_1')\n",
    "\n",
    "# make sure the order of gene matches between aver and x_data\n",
    "aver = aver.loc[adata_vis.var_names,:]\n",
    "\n",
    "# generate one-hot encoded matrix telling which obs belong to whic samples\n",
    "obs2sample_df = pd.get_dummies(adata_vis.obs['sample'])"
   ]
  },
  {
   "cell_type": "raw",
   "metadata": {},
   "source": [
    "adata_vis"
   ]
  },
  {
   "cell_type": "markdown",
   "metadata": {},
   "source": [
    "## Model training"
   ]
  },
  {
   "cell_type": "code",
   "execution_count": 7,
   "metadata": {},
   "outputs": [
    {
     "name": "stdout",
     "output_type": "stream",
     "text": [
      "\u001b[34mINFO    \u001b[0m Using batches from adata.obs\u001b[1m[\u001b[0m\u001b[32m\"sample\"\u001b[0m\u001b[1m]\u001b[0m                                              \n",
      "\u001b[34mINFO    \u001b[0m No label_key inputted, assuming all cells have same label                           \n",
      "\u001b[34mINFO    \u001b[0m Using data from adata.X                                                             \n",
      "\u001b[34mINFO    \u001b[0m Computing library size prior per batch                                              \n"
     ]
    },
    {
     "name": "stderr",
     "output_type": "stream",
     "text": [
      "/nfs/team283/vk7/software/miniconda3farm5/envs/scvi-env2/lib/python3.7/site-packages/pandas/core/arrays/categorical.py:2487: FutureWarning: The `inplace` parameter in pandas.Categorical.remove_unused_categories is deprecated and will be removed in a future version.\n",
      "  res = method(*args, **kwargs)\n",
      "/nfs/team283/vk7/software/miniconda3farm5/envs/scvi-env2/lib/python3.7/site-packages/pandas/core/arrays/categorical.py:2487: FutureWarning: The `inplace` parameter in pandas.Categorical.remove_unused_categories is deprecated and will be removed in a future version.\n",
      "  res = method(*args, **kwargs)\n",
      "/nfs/team283/vk7/software/miniconda3farm5/envs/scvi-env2/lib/python3.7/site-packages/pandas/core/arrays/categorical.py:2487: FutureWarning: The `inplace` parameter in pandas.Categorical.remove_unused_categories is deprecated and will be removed in a future version.\n",
      "  res = method(*args, **kwargs)\n"
     ]
    },
    {
     "name": "stdout",
     "output_type": "stream",
     "text": [
      "\u001b[34mINFO    \u001b[0m Successfully registered anndata object containing \u001b[1;34m12500\u001b[0m cells, \u001b[1;34m12809\u001b[0m vars, \u001b[1;34m5\u001b[0m        \n",
      "         batches, \u001b[1;34m1\u001b[0m labels, and \u001b[1;34m0\u001b[0m proteins. Also registered \u001b[1;34m0\u001b[0m extra categorical covariates   \n",
      "         and \u001b[1;34m0\u001b[0m extra continuous covariates.                                                  \n",
      "\u001b[34mINFO    \u001b[0m Please do not further modify adata until model is trained.                          \n"
     ]
    },
    {
     "name": "stderr",
     "output_type": "stream",
     "text": [
      "/nfs/team283/vk7/software/miniconda3farm5/envs/scvi-env2/lib/python3.7/site-packages/pandas/core/arrays/categorical.py:2487: FutureWarning: The `inplace` parameter in pandas.Categorical.remove_unused_categories is deprecated and will be removed in a future version.\n",
      "  res = method(*args, **kwargs)\n",
      "/nfs/team283/vk7/software/miniconda3farm5/envs/scvi-env2/lib/python3.7/site-packages/pandas/core/arrays/categorical.py:2487: FutureWarning: The `inplace` parameter in pandas.Categorical.remove_unused_categories is deprecated and will be removed in a future version.\n",
      "  res = method(*args, **kwargs)\n"
     ]
    }
   ],
   "source": [
    "adata_vis = scvi.external.cell2location.setup_anndata(adata=adata_vis, cell_state_df=aver, batch_key=\"sample\")"
   ]
  },
  {
   "cell_type": "code",
   "execution_count": 8,
   "metadata": {},
   "outputs": [
    {
     "data": {
      "text/plain": [
       "{'scvi_version': '0.0.0',\n",
       " 'categorical_mappings': {'_scvi_batch': {'original_key': 'sample',\n",
       "   'mapping': array(['exper5', 'exper6', 'exper7', 'exper8', 'exper9'], dtype=object)},\n",
       "  '_scvi_labels': {'original_key': '_scvi_labels', 'mapping': array([0])}},\n",
       " 'data_registry': {'X': {'attr_name': 'X', 'attr_key': 'None'},\n",
       "  'batch_indices': {'attr_name': 'obs', 'attr_key': '_scvi_batch'},\n",
       "  'local_l_mean': {'attr_name': 'obs', 'attr_key': '_scvi_local_l_mean'},\n",
       "  'local_l_var': {'attr_name': 'obs', 'attr_key': '_scvi_local_l_var'},\n",
       "  'labels': {'attr_name': 'obs', 'attr_key': '_scvi_labels'},\n",
       "  'ind_x': {'attr_name': 'obs', 'attr_key': '_indices'}},\n",
       " 'summary_stats': {'n_batch': 5,\n",
       "  'n_cells': 12500,\n",
       "  'n_vars': 12809,\n",
       "  'n_labels': 1,\n",
       "  'n_proteins': 0,\n",
       "  'n_continuous_covs': 0,\n",
       "  'n_obs': 12500,\n",
       "  'n_factors': 49},\n",
       " '_scvi_factors': {'varm_key': 'cell_state',\n",
       "  'mapping': array(['Astro_AMY', 'Astro_AMY_CTX', 'Astro_CTX', 'Astro_HPC',\n",
       "         'Astro_HYPO', 'Astro_THAL_lat', 'Astro_THAL_med', 'Astro_WM',\n",
       "         'Ext_Amy_1', 'Ext_Amy_2', 'Ext_ClauPyr', 'Ext_Hpc_CA1',\n",
       "         'Ext_Hpc_CA3', 'Ext_Hpc_DG1', 'Ext_Hpc_DG2', 'Ext_L23', 'Ext_L25',\n",
       "         'Ext_L56', 'Ext_L5_1', 'Ext_L5_2', 'Ext_L6', 'Ext_L6B', 'Ext_Pir',\n",
       "         'Ext_Thal_1', 'Ext_Thal_2', 'Ext_Unk_3', 'Inh_1', 'Inh_2', 'Inh_3',\n",
       "         'Inh_4', 'Inh_5', 'Inh_6', 'Inh_Lamp5', 'Inh_Meis2_1',\n",
       "         'Inh_Meis2_2', 'Inh_Meis2_3', 'Inh_Meis2_4', 'Inh_Pvalb',\n",
       "         'Inh_Sst', 'Inh_Vip', 'LowQ_2', 'Micro', 'Nb_1', 'Nb_2', 'OPC_1',\n",
       "         'OPC_2', 'Oligo_1', 'Oligo_2', 'Unk_1'], dtype=object)}}"
      ]
     },
     "execution_count": 8,
     "metadata": {},
     "output_type": "execute_result"
    }
   ],
   "source": [
    "adata_vis.uns['_scvi']"
   ]
  },
  {
   "cell_type": "code",
   "execution_count": 12,
   "metadata": {
    "scrolled": false
   },
   "outputs": [],
   "source": [
    "mod = scvi.external.Cell2location(adata_vis, batch_size=None, \n",
    "                                  amortised=True, \n",
    "                                  encoder_kwargs={'n_layers': 1, 'n_hidden': 200},\n",
    "                                  N_cells_per_location=8)"
   ]
  },
  {
   "cell_type": "code",
   "execution_count": 13,
   "metadata": {
    "scrolled": false
   },
   "outputs": [
    {
     "data": {
      "application/vnd.jupyter.widget-view+json": {
       "model_id": "c750f9b155b944b0b4041e6ba29297cb",
       "version_major": 2,
       "version_minor": 0
      },
      "text/plain": [
       "  0%|          | 0/40000 [00:00<?, ?it/s]"
      ]
     },
     "metadata": {},
     "output_type": "display_data"
    }
   ],
   "source": [
    "mod.train(max_epochs=40000, lr=0.005, use_gpu=True)"
   ]
  },
  {
   "cell_type": "code",
   "execution_count": 14,
   "metadata": {},
   "outputs": [],
   "source": [
    "means = mod.posterior_median_full_data(use_gpu = True)"
   ]
  },
  {
   "cell_type": "code",
   "execution_count": 15,
   "metadata": {},
   "outputs": [
    {
     "data": {
      "text/plain": [
       "(12500, 49)"
      ]
     },
     "execution_count": 15,
     "metadata": {},
     "output_type": "execute_result"
    }
   ],
   "source": [
    "means['w_sf'].shape"
   ]
  },
  {
   "cell_type": "code",
   "execution_count": 9,
   "metadata": {
    "scrolled": true
   },
   "outputs": [],
   "source": [
    "mod_m = scvi.external.Cell2location(adata_vis, batch_size=500, \n",
    "                                  amortised=True, \n",
    "                                  encoder_kwargs={'n_layers': 1, 'n_hidden': 200},\n",
    "                                  N_cells_per_location=8)"
   ]
  },
  {
   "cell_type": "code",
   "execution_count": 10,
   "metadata": {},
   "outputs": [
    {
     "name": "stderr",
     "output_type": "stream",
     "text": [
      "GPU available: True, used: True\n",
      "TPU available: False, using: 0 TPU cores\n",
      "LOCAL_RANK: 0 - CUDA_VISIBLE_DEVICES: [0,1]\n"
     ]
    },
    {
     "name": "stdout",
     "output_type": "stream",
     "text": [
      "Epoch 1/3000:   0%|          | 0/3000 [00:00<?, ?it/s]"
     ]
    },
    {
     "name": "stderr",
     "output_type": "stream",
     "text": [
      "/nfs/team283/vk7/software/miniconda3farm5/envs/scvi-env2/lib/python3.7/site-packages/pytorch_lightning/utilities/distributed.py:52: UserWarning: `LightningModule.configure_optimizers` returned `None`, this fit will run with no optimizer\n",
      "  warnings.warn(*args, **kwargs)\n"
     ]
    },
    {
     "name": "stdout",
     "output_type": "stream",
     "text": [
      "Epoch 3000/3000: 100%|██████████| 3000/3000 [1:47:45<00:00,  2.16s/it, v_num=1, train_loss_step=1.54e+8, train_loss_epoch=1.54e+8]\n"
     ]
    }
   ],
   "source": [
    "mod_m.train(max_epochs=3000, lr=0.01, use_gpu=True)"
   ]
  },
  {
   "cell_type": "code",
   "execution_count": 11,
   "metadata": {},
   "outputs": [],
   "source": [
    "means_m = mod_m.posterior_median(use_gpu = True)"
   ]
  },
  {
   "cell_type": "raw",
   "metadata": {
    "scrolled": false
   },
   "source": [
    "# test Predictive\n",
    "num_samples = 5\n",
    "predictive = mod_m.module.create_predictive(num_samples=num_samples, parallel=False)\n",
    "\n",
    "from scvi.dataloaders import AnnDataLoader\n",
    "train_dl = AnnDataLoader(adata_vis, shuffle=False, batch_size=500)\n",
    "for tensor_dict in train_dl:\n",
    "        args, kwargs = mod_m.module._get_fn_args_from_batch(tensor_dict)\n",
    "        samples = {\n",
    "            k: v.detach().cpu().numpy()\n",
    "            for k, v in predictive(*args, **kwargs).items()\n",
    "            if k != \"obs\"\n",
    "        }"
   ]
  },
  {
   "cell_type": "raw",
   "metadata": {},
   "source": [
    "# save Pyro param state \n",
    "model_save_path = os.path.join(save_path, \"model_params.pt\")\n",
    "torch.save(model.state_dict(), model_save_path)"
   ]
  },
  {
   "cell_type": "raw",
   "metadata": {},
   "source": [
    "amortised_plate_sites = {'name': \"obs_plate\",\n",
    "                'in': ['x_data'],\n",
    "                'sites': {\n",
    "                    \"n_s_cells_per_location\": 1,\n",
    "                    \"y_s_groups_per_location\": 1,\n",
    "                    \"z_sr_groups_factors\": 5,\n",
    "                    \"w_sf\": 4,\n",
    "                    \"l_s_add\": 1,\n",
    "                }}\n",
    "np.sum([np.sum(amortised_plate_sites['sites'][k]) for k in amortised_plate_sites['sites'].keys()]) * 2"
   ]
  },
  {
   "cell_type": "raw",
   "metadata": {},
   "source": [
    "# create indices for loc and scales of each site\n",
    "counter = 0\n",
    "indices = dict()\n",
    "for site, n_dim in amortised_plate_sites['sites'].items():\n",
    "            indices[site] = {'locs': np.arange(counter, counter + n_dim),\n",
    "                             'scales': np.arange(counter + n_dim, counter + n_dim * 2)}\n",
    "            counter += n_dim * 2\n",
    "            \n",
    "indices"
   ]
  },
  {
   "cell_type": "raw",
   "metadata": {},
   "source": [
    "# save model\n",
    "mod_m.save(dir_path='./results/scvi/minibatch_1sample', overwrite=True, save_anndata=False)\n",
    "\n",
    "# load model\n",
    "mod_m.load(dir_path='./results/scvi/minibatch_1sample', adata=adata_vis, use_gpu=True)"
   ]
  },
  {
   "cell_type": "markdown",
   "metadata": {},
   "source": [
    "### Compare ELBO as training progresses"
   ]
  },
  {
   "cell_type": "code",
   "execution_count": 16,
   "metadata": {},
   "outputs": [
    {
     "data": {
      "image/png": "[encoded data removed]",
      "text/plain": [
       "<Figure size 432x288 with 1 Axes>"
      ]
     },
     "metadata": {
      "needs_background": "light"
     },
     "output_type": "display_data"
    }
   ],
   "source": [
    "plt.plot(range(2000, len(mod.module.history_)), np.array(mod.module.history_)[2000:]);\n",
    "plt.plot(mod_m.module.history_['train_loss_epoch'].index[2000:], \n",
    "         np.array(mod_m.module.history_['train_loss_epoch'].values.flatten())[2000:]);\n",
    "plt.legend(labels=['full data', 'minibatch 500/2500']);\n",
    "plt.xlim(0, len(mod.module.history_));"
   ]
  },
  {
   "cell_type": "code",
   "execution_count": 17,
   "metadata": {},
   "outputs": [
    {
     "data": {
      "image/png": "[encoded data removed]",
      "text/plain": [
       "<Figure size 432x288 with 1 Axes>"
      ]
     },
     "metadata": {
      "needs_background": "light"
     },
     "output_type": "display_data"
    }
   ],
   "source": [
    "#plt.plot(range(200, len(mod.module.history_)), np.array(mod.module.history_)[200:]);\n",
    "plt.plot(mod_m.module.history_['train_loss_epoch'].index[200:], \n",
    "         np.array(mod_m.module.history_['train_loss_epoch'].values.flatten())[200:]);\n",
    "plt.legend(labels=['minibatch 500/2500']);\n",
    "plt.xlim(0, len(mod_m.module.history_['train_loss_epoch']));"
   ]
  },
  {
   "cell_type": "code",
   "execution_count": 18,
   "metadata": {},
   "outputs": [
    {
     "data": {
      "image/png": "[encoded data removed]",
      "text/plain": [
       "<Figure size 432x288 with 1 Axes>"
      ]
     },
     "metadata": {
      "needs_background": "light"
     },
     "output_type": "display_data"
    }
   ],
   "source": [
    "plt.plot(range(1, 100), np.array(mod.module.history_)[1:100]);\n",
    "plt.plot(mod_m.module.history_['train_loss_epoch'].index[1:100], \n",
    "         np.array(mod_m.module.history_['train_loss_epoch'].values.flatten())[1:100]);\n",
    "plt.legend(labels=['full data', 'minibatch 500/2500']);\n",
    "plt.xlim(0, 100);"
   ]
  },
  {
   "cell_type": "markdown",
   "metadata": {},
   "source": [
    "### Evaluate accuracy using $R^2$"
   ]
  },
  {
   "cell_type": "code",
   "execution_count": 19,
   "metadata": {},
   "outputs": [],
   "source": [
    "from re import sub\n",
    "cell_count = adata_vis.obs.loc[:, ['cell_abundances_' in i for i in adata_vis.obs.columns]]\n",
    "cell_count.columns =  [sub('cell_abundances_', '', i) for i in cell_count.columns]\n",
    "cell_count_columns = cell_count.columns\n",
    "cell_proportions = (cell_count.T / cell_count.sum(1)).T\n",
    "\n",
    "infer_cell_count = pd.DataFrame(means['w_sf'], index=adata_vis.obs_names, \n",
    "                                columns=aver.columns)\n",
    "infer_cell_count = infer_cell_count[cell_count.columns]\n",
    "infer_cell_proportions = (infer_cell_count.T / infer_cell_count.sum(1)).T\n",
    "\n",
    "infer_cell_count_m = pd.DataFrame(means_m['w_sf'], index=adata_vis.obs_names, \n",
    "                                columns=aver.columns)\n",
    "infer_cell_count_m = infer_cell_count_m[cell_count.columns]\n",
    "infer_cell_proportions_m = (infer_cell_count_m.T / infer_cell_count_m.sum(1)).T"
   ]
  },
  {
   "cell_type": "code",
   "execution_count": 20,
   "metadata": {},
   "outputs": [
    {
     "data": {
      "text/plain": [
       "(                      Inh_3   Ext_Pir   Oligo_2  Astro_HYPO   Ext_L25\n",
       " exper5_location_0  0.154765  0.059958  0.064992    1.074088  0.226704\n",
       " exper5_location_1  0.302968  0.065280  0.164538    2.275809  0.211222\n",
       " exper5_location_2  0.262616  0.020360  0.059644    1.282341  0.264905\n",
       " exper5_location_3  0.218382  0.029319  0.359407    1.953692  0.318374\n",
       " exper5_location_4  0.158576  0.014504  0.415367    1.684122  0.334971,\n",
       "                       Inh_3   Ext_Pir   Oligo_2  Astro_HYPO   Ext_L25\n",
       " exper5_location_0  0.986117  0.982700  0.203183    2.109284  1.080517\n",
       " exper5_location_1  1.316261  0.941567  0.520516    4.549710  1.159015\n",
       " exper5_location_2  1.273455  0.768410  0.338842    2.695865  1.353640\n",
       " exper5_location_3  1.189774  0.639817  0.428545    4.791891  1.550796\n",
       " exper5_location_4  1.436832  0.556842  0.485143    3.737076  1.738895)"
      ]
     },
     "execution_count": 20,
     "metadata": {},
     "output_type": "execute_result"
    }
   ],
   "source": [
    "infer_cell_count.iloc[0:5,0:5], infer_cell_count_m.iloc[0:5,0:5]"
   ]
  },
  {
   "cell_type": "code",
   "execution_count": 21,
   "metadata": {},
   "outputs": [
    {
     "data": {
      "image/png": "[encoded data removed]",
      "text/plain": [
       "<Figure size 288x288 with 1 Axes>"
      ]
     },
     "metadata": {
      "needs_background": "light"
     },
     "output_type": "display_data"
    }
   ],
   "source": [
    "rcParams['figure.figsize'] = 4, 4\n",
    "rcParams[\"axes.facecolor\"] = \"white\"\n",
    "\n",
    "plt.hist2d(cell_count.values.flatten(), \n",
    "           infer_cell_count.values.flatten(),# / np.mean(adata_vis_res.var['gene_level'].values),\n",
    "           bins=[50, 50], norm=mpl.colors.LogNorm());\n",
    "plt.xlabel('Simulated cell abundance');\n",
    "plt.ylabel('Estimated cell abundance');\n",
    "plt.title(r'full data, $R^2$: ' \\\n",
    "          + str(np.round(np.corrcoef(cell_count.values.flatten(), \n",
    "           infer_cell_count.values.flatten()), 3)[0,1]));\n",
    "#plt.gca().set_aspect('equal', adjustable='box')\n",
    "plt.tight_layout()\n",
    "#plt.savefig(fig_path + '/Cell_density_cor.pdf')"
   ]
  },
  {
   "cell_type": "code",
   "execution_count": 22,
   "metadata": {},
   "outputs": [
    {
     "data": {
      "image/png": "[encoded data removed]",
      "text/plain": [
       "<Figure size 288x288 with 1 Axes>"
      ]
     },
     "metadata": {
      "needs_background": "light"
     },
     "output_type": "display_data"
    }
   ],
   "source": [
    "rcParams['figure.figsize'] = 4, 4\n",
    "rcParams[\"axes.facecolor\"] = \"white\"\n",
    "\n",
    "plt.hist2d(cell_count.values.flatten(), \n",
    "           infer_cell_count_m.values.flatten(),# / np.mean(adata_vis_res.var['gene_level'].values),\n",
    "           bins=[50, 50], norm=mpl.colors.LogNorm());\n",
    "plt.xlabel('Simulated cell abundance');\n",
    "plt.ylabel('Estimated cell abundance');\n",
    "plt.title(r'minibatch 500/2500, $R^2$: ' \\\n",
    "          + str(np.round(np.corrcoef(cell_count.values.flatten(), \n",
    "           infer_cell_count_m.values.flatten()), 3)[0,1]));\n",
    "#plt.gca().set_aspect('equal', adjustable='box')\n",
    "plt.tight_layout()\n",
    "#plt.savefig(fig_path + '/Cell_density_cor.pdf')"
   ]
  },
  {
   "cell_type": "markdown",
   "metadata": {},
   "source": [
    "Original implementation of cell2location in pymc3 has $R^2 = 0.791$."
   ]
  },
  {
   "cell_type": "markdown",
   "metadata": {},
   "source": [
    "## Evaluate with PR curves"
   ]
  },
  {
   "cell_type": "code",
   "execution_count": 23,
   "metadata": {},
   "outputs": [],
   "source": [
    "import matplotlib as mpl\n",
    "from matplotlib import pyplot as plt\n",
    "import numpy as np\n",
    "from scipy import interpolate\n",
    "\n",
    "with plt.style.context('seaborn'):\n",
    "    seaborn_colors = mpl.rcParams['axes.prop_cycle'].by_key()['color']\n",
    "\n",
    "\n",
    "def compute_precision_recall(pos_cell_count, infer_cell_proportions, mode='macro'):\n",
    "    r\"\"\" Plot precision-recall curves on average and for each cell type.\n",
    "    :param pos_cell_count: binary matrix showing which cell types are present in which locations\n",
    "    :param infer_cell_proportions: inferred locations (the higher the more cells)\n",
    "    \"\"\"\n",
    "    \n",
    "    from sklearn.metrics import precision_recall_curve\n",
    "    from sklearn.metrics import average_precision_score\n",
    "    \n",
    "    ### calculating ###\n",
    "    predictor = infer_cell_proportions.values + np.random.gamma(20, 1e-12, \n",
    "                                                                infer_cell_proportions.shape)\n",
    "    # For each cell type\n",
    "    precision = dict()\n",
    "    recall = dict()\n",
    "    average_precision = dict()\n",
    "    for i, c in enumerate(infer_cell_proportions.columns):\n",
    "        precision[c], recall[c], _ = precision_recall_curve(pos_cell_count[:, i],\n",
    "                                                            predictor[:, i])\n",
    "        average_precision[c] = average_precision_score(pos_cell_count[:, i], predictor[:, i], average=mode)\n",
    "\n",
    "    average_precision[\"averaged\"] = average_precision_score(pos_cell_count, predictor,\n",
    "                                                     average=mode)\n",
    "\n",
    "    # A \"micro-average\": quantifying score on all classes jointly\n",
    "    if mode == 'micro':\n",
    "        precision_, recall_, threshold = precision_recall_curve(pos_cell_count.ravel(),\n",
    "                                                                        predictor.ravel())\n",
    "        #precision_[threshold < 0.1] = 0\n",
    "        precision[\"averaged\"], recall[\"averaged\"] =  precision_, recall_\n",
    "\n",
    "    elif mode == 'macro':\n",
    "        precisions = []\n",
    "        recall_grid = np.linspace(0, 1, 2000)\n",
    "\n",
    "        for i, c in enumerate(infer_cell_proportions.columns):\n",
    "            f = interpolate.interp1d(recall[c], precision[c])\n",
    "            precision_interp = f(recall_grid)\n",
    "            precisions.append(precision_interp)\n",
    "\n",
    "        precision[\"averaged\"] = np.mean(precisions, axis=0)\n",
    "        recall['averaged'] = recall_grid\n",
    "\n",
    "        \n",
    "    return precision, recall, average_precision\n",
    "\n",
    "def compare_precision_recall(pos_cell_count, infer_cell_proportions,\n",
    "                             method_title, title='',\n",
    "                             legend_loc=(0, -.37),\n",
    "                             colors=sc.pl.palettes.default_102,\n",
    "                             mode='macro', curve='PR'):\n",
    "    \n",
    "    r\"\"\" Plot precision-recall curves on average and for each cell type.\n",
    "    :param pos_cell_count: binary matrix showing which cell types are present in which locations\n",
    "    :param infer_cell_proportions: inferred locations (the higher the more cells), \n",
    "                                        list of inferred parameters for several methods\n",
    "    :param method_title: title for each infer_cell_proportions\n",
    "    :param title: plot title\n",
    "    \"\"\"\n",
    "    # setup plot details\n",
    "    from itertools import cycle\n",
    "    colors = cycle(colors)\n",
    "    lines = []\n",
    "    labels = []\n",
    "    roc = {}\n",
    "    \n",
    "    ### plotting ###\n",
    "    for i, color in zip(range(len(infer_cell_proportions)), colors):\n",
    "        \n",
    "        if curve == 'PR':\n",
    "            precision, recall, average_precision = compute_precision_recall(pos_cell_count, \n",
    "                                                                        infer_cell_proportions[i], \n",
    "                                                                        mode=mode)\n",
    "\n",
    "            xlabel = 'Recall'\n",
    "            ylabel = 'Precision'\n",
    "            \n",
    "            l, = plt.plot(recall[\"averaged\"], precision[\"averaged\"], color=color, lw=3)\n",
    "\n",
    "        elif curve == 'ROC':\n",
    "            FPR, TPR, average_precision = compute_roc(pos_cell_count, \n",
    "                                                                        infer_cell_proportions[i], \n",
    "                                                                        mode=mode)\n",
    "\n",
    "            xlabel = 'FPR'\n",
    "            ylabel = 'TPR'\n",
    "            \n",
    "            l, = plt.plot(FPR[\"averaged\"], TPR[\"averaged\"], color=color, lw=3)\n",
    "            \n",
    "        \n",
    "        lines.append(l)\n",
    "\n",
    "        labels.append(method_title[i] + '(' + curve + ' score = {0:0.2f})'\n",
    "                      ''.format(average_precision[\"averaged\"]))\n",
    "        roc[method_title[i]] = average_precision[\"averaged\"]\n",
    "\n",
    "\n",
    "    fig = plt.gcf()\n",
    "    fig.subplots_adjust(bottom=0.25)\n",
    "    plt.xlim([0.0, 1.0])\n",
    "    plt.ylim([0.0, 1.05])\n",
    "    plt.xlabel(xlabel)\n",
    "    plt.ylabel(ylabel)\n",
    "    plt.title(title)\n",
    "    if legend_loc is not None:\n",
    "        plt.legend(lines, labels, loc=legend_loc, prop=dict(size=8))\n",
    "\n",
    "    #plt.show()\n",
    "    return roc"
   ]
  },
  {
   "cell_type": "code",
   "execution_count": 24,
   "metadata": {},
   "outputs": [
    {
     "data": {
      "image/png": "[encoded data removed]",
      "text/plain": [
       "<Figure size 432x216 with 1 Axes>"
      ]
     },
     "metadata": {
      "needs_background": "light"
     },
     "output_type": "display_data"
    },
    {
     "data": {
      "image/png": "[encoded data removed]",
      "text/plain": [
       "<Figure size 432x216 with 1 Axes>"
      ]
     },
     "metadata": {
      "needs_background": "light"
     },
     "output_type": "display_data"
    }
   ],
   "source": [
    "rcParams['figure.figsize'] = 6, 3\n",
    "rcParams['font.size'] = 8\n",
    "\n",
    "results = [\n",
    "    infer_cell_count,\n",
    "    infer_cell_count_m\n",
    "]\n",
    "\n",
    "results_proportion = [\n",
    "    infer_cell_proportions,\n",
    "    infer_cell_proportions_m\n",
    "]\n",
    "\n",
    "names = [\n",
    "    'full data', \n",
    "    'minibatch 500/2500',\n",
    "]\n",
    "\n",
    "compare_precision_recall(cell_count.values > 0.1, \n",
    "                         results,\n",
    "                         method_title=names, \n",
    "                         legend_loc=(1.1, 0.5))\n",
    "plt.tight_layout();\n",
    "plt.title('Absolute cell abundance');\n",
    "plt.show();\n",
    "\n",
    "compare_precision_recall(cell_count.values > 0.1, \n",
    "                         results_proportion,\n",
    "                         method_title=names, \n",
    "                         legend_loc=(1.1, 0.5))\n",
    "plt.tight_layout();\n",
    "plt.title('Relative cell abundance');\n",
    "plt.show();"
   ]
  },
  {
   "cell_type": "markdown",
   "metadata": {},
   "source": [
    "Original implementation of cell2location in pymc3 has PR score = 0.66."
   ]
  },
  {
   "cell_type": "markdown",
   "metadata": {},
   "source": [
    "### $R^2$ stratified by abundance and regional pattern"
   ]
  },
  {
   "cell_type": "code",
   "execution_count": 25,
   "metadata": {},
   "outputs": [
    {
     "name": "stderr",
     "output_type": "stream",
     "text": [
      "/nfs/team283/vk7/software/miniconda3farm5/envs/scvi-env2/lib/python3.7/site-packages/scipy/spatial/distance.py:1293: RuntimeWarning: invalid value encountered in true_divide\n",
      "  p = p / np.sum(p, axis=0)\n"
     ]
    },
    {
     "data": {
      "image/png": "[encoded data removed]",
      "text/plain": [
       "<Figure size 1296x324 with 4 Axes>"
      ]
     },
     "metadata": {
      "needs_background": "light"
     },
     "output_type": "display_data"
    },
    {
     "data": {
      "image/png": "[encoded data removed]",
      "text/plain": [
       "<Figure size 1296x324 with 4 Axes>"
      ]
     },
     "metadata": {
      "needs_background": "light"
     },
     "output_type": "display_data"
    }
   ],
   "source": [
    "from scipy.spatial.distance import jensenshannon\n",
    "\n",
    "def hist_obs_sim(cell_count, infer_cell_count,\n",
    "                 xlab='Simulated cell proportion',\n",
    "                 ylab='Estimated cell proportion',\n",
    "                 title='', compute_kl=True, equal=True, max_val=1):\n",
    "    \n",
    "    cor = np.round(np.corrcoef(cell_count.values.flatten(), \n",
    "               infer_cell_count.values.flatten()), 3)[0,1]\n",
    "    title = title +'\\n'+ r'$R^2$: ' + str(cor)\n",
    "    \n",
    "    if compute_kl:\n",
    "        \n",
    "        js = np.array([jensenshannon(cell_count.values[r,:], infer_cell_count.values[r,:]) \n",
    "                 for r in range(cell_count.shape[0])])\n",
    "        js = np.mean(js[~np.isnan(js)])\n",
    "        title = title + '\\nAverage JSD: ' + str(np.round(js, 2))\n",
    "    \n",
    "    plt.hist2d(cell_count.values.flatten(), \n",
    "               infer_cell_count.values.flatten(),\n",
    "               bins=[35, 35], norm=mpl.colors.LogNorm());\n",
    "    plt.xlabel(xlab);\n",
    "    plt.ylabel(ylab);\n",
    "    if equal:\n",
    "        plt.gca().set_aspect('equal', adjustable='box')\n",
    "    plt.xlim(0, max_val);\n",
    "    plt.ylim(0, max_val);\n",
    "    plt.title(title);\n",
    "    \n",
    "def hist_by_category(cell_count, infer_cell_count, design,\n",
    "                 xlab='Simulated cell proportion',\n",
    "                 ylab='Estimated cell proportion',\n",
    "                 nrow=1, ncol=4, compute_kl=True, equal=True):\n",
    "\n",
    "    design_loc = design.loc[cell_count.columns,:]\n",
    "    \n",
    "    max_val = np.array([cell_count.values.max(), infer_cell_count.values.max()]).max()\n",
    "    if max_val < 1:\n",
    "        max_val = 1\n",
    "    \n",
    "    plt.subplot(nrow, ncol, 1)\n",
    "    ind = (design_loc['is_uniform'] * design_loc['is_high_density']).values.astype(bool)\n",
    "    hist_obs_sim(cell_count.loc[:,ind], infer_cell_count.loc[:,ind],\n",
    "                 xlab=xlab,\n",
    "                 ylab=ylab,\n",
    "                 title=f'Uniform & high abundance ({ind.sum()})',\n",
    "                 compute_kl=compute_kl, equal=equal, max_val=max_val)\n",
    "    \n",
    "    plt.subplot(nrow, ncol, 2)\n",
    "    ind = (design_loc['is_uniform'] * (1 - design_loc['is_high_density'])).values.astype(bool)\n",
    "    hist_obs_sim(cell_count.loc[:,ind], infer_cell_count.loc[:,ind],\n",
    "                 xlab=xlab,\n",
    "                 ylab=ylab,\n",
    "                 title=f'Uniform & low abundance ({ind.sum()})',\n",
    "                 compute_kl=compute_kl, equal=equal, max_val=max_val)\n",
    "    \n",
    "    plt.subplot(nrow, ncol, 3)\n",
    "    ind = ((1 - design_loc['is_uniform']) * design_loc['is_high_density']).values.astype(bool)\n",
    "    hist_obs_sim(cell_count.loc[:,ind], infer_cell_count.loc[:,ind],\n",
    "                 xlab=xlab,\n",
    "                 ylab=ylab,\n",
    "                 title=f'Sparse & high abundance ({ind.sum()})',\n",
    "                 compute_kl=compute_kl, equal=equal, max_val=max_val)\n",
    "    \n",
    "    plt.subplot(nrow, ncol, 4)\n",
    "    ind = ((1 - design_loc['is_uniform']) * (1 - design_loc['is_high_density'])).values.astype(bool)\n",
    "    hist_obs_sim(cell_count.loc[:,ind], infer_cell_count.loc[:,ind],\n",
    "                 xlab=xlab,\n",
    "                 ylab=ylab,\n",
    "                 title=f'Sparse & low abundance ({ind.sum()})',\n",
    "                 compute_kl=compute_kl, equal=equal, max_val=max_val)\n",
    "\n",
    "rcParams['figure.figsize'] = 18,4.5 \n",
    "rcParams[\"axes.facecolor\"] = \"white\"\n",
    "hist_by_category(cell_proportions, infer_cell_proportions, adata_vis.uns['design']['cell_types2zones'],\n",
    "                 xlab='Simulated cell proportion',\n",
    "                 ylab='Estimated cell proportion',\n",
    "                 nrow=1, ncol=4, equal=True)\n",
    "plt.tight_layout();\n",
    "plt.show();\n",
    "\n",
    "hist_by_category(cell_proportions, infer_cell_proportions_m, adata_vis.uns['design']['cell_types2zones'],\n",
    "                 xlab='Simulated cell proportion',\n",
    "                 ylab='Estimated cell proportion',\n",
    "                 nrow=1, ncol=4, equal=True)\n",
    "plt.tight_layout();\n",
    "plt.show();"
   ]
  },
  {
   "cell_type": "code",
   "execution_count": 26,
   "metadata": {},
   "outputs": [
    {
     "name": "stdout",
     "output_type": "stream",
     "text": [
      "ipykernel 5.3.4\n",
      "ipykernel._version 5.3.4\n",
      "json 2.0.9\n",
      "re 2.2.1\n",
      "IPython 7.20.0\n",
      "IPython.core.release 7.20.0\n",
      "logging 0.5.1.2\n",
      "zlib 1.0\n",
      "traitlets 5.0.5\n",
      "traitlets._version 5.0.5\n",
      "argparse 1.1\n",
      "ipython_genutils 0.2.0\n",
      "ipython_genutils._version 0.2.0\n",
      "platform 1.0.8\n",
      "pygments 2.7.4\n",
      "pexpect 4.8.0\n",
      "ptyprocess 0.7.0\n",
      "decorator 4.4.2\n",
      "pickleshare 0.7.5\n",
      "backcall 0.2.0\n",
      "prompt_toolkit 3.0.8\n",
      "wcwidth 0.2.5\n",
      "jedi 0.17.0\n",
      "parso 0.8.1\n",
      "colorama 0.4.4\n",
      "ctypes 1.1.0\n",
      "_ctypes 1.1.0\n",
      "urllib.request 3.7\n",
      "jupyter_client 6.1.7\n",
      "jupyter_client._version 6.1.7\n",
      "zmq 20.0.0\n",
      "zmq.backend.cython 40303\n",
      "zmq.backend.cython.constants 40303\n",
      "zmq.sugar 20.0.0\n",
      "zmq.sugar.constants 40303\n",
      "zmq.sugar.version 20.0.0\n",
      "jupyter_core 4.7.1\n",
      "jupyter_core.version 4.7.1\n",
      "_curses b'2.2'\n",
      "dateutil 2.8.1\n",
      "six 1.15.0\n",
      "decimal 1.70\n",
      "_decimal 1.70\n",
      "distutils 3.7.9\n",
      "scanpy 1.7.0\n",
      "scanpy._metadata 1.7.0\n",
      "packaging 20.9\n",
      "packaging.__about__ 20.9\n",
      "importlib_metadata 1.7.0\n",
      "csv 1.0\n",
      "_csv 1.0\n",
      "numpy 1.20.0\n",
      "numpy.core 1.20.0\n",
      "numpy.core._multiarray_umath 3.1\n",
      "numpy.lib 1.20.0\n",
      "numpy.linalg._umath_linalg 0.1.5\n",
      "scipy 1.6.0\n",
      "anndata 0.7.5\n",
      "anndata._metadata 0.7.5\n",
      "h5py 3.1.0\n",
      "cached_property 1.5.2\n",
      "natsort 7.1.1\n",
      "pandas 1.2.1\n",
      "pytz 2021.1\n",
      "pandas.compat.numpy.function 1.20.0\n",
      "sinfo 0.3.1\n",
      "stdlib_list v0.8.0\n",
      "numba 0.52.0\n",
      "yaml 5.3.1\n",
      "llvmlite 0.35.0\n",
      "pkg_resources._vendor.appdirs 1.4.3\n",
      "pkg_resources.extern.appdirs 1.4.3\n",
      "pkg_resources._vendor.packaging 20.4\n",
      "pkg_resources._vendor.packaging.__about__ 20.4\n",
      "pkg_resources.extern.packaging 20.4\n",
      "pkg_resources._vendor.pyparsing 2.2.1\n",
      "pkg_resources.extern.pyparsing 2.2.1\n",
      "numba.misc.appdirs 1.4.1\n",
      "sklearn 0.24.1\n",
      "sklearn.base 0.24.1\n",
      "joblib 1.0.0\n",
      "joblib.externals.loky 2.9.0\n",
      "joblib.externals.cloudpickle 1.6.0\n",
      "scipy._lib.decorator 4.0.5\n",
      "scipy.linalg._fblas b'$Revision: $'\n",
      "scipy.linalg._flapack b'$Revision: $'\n",
      "scipy.linalg._flinalg b'$Revision: $'\n",
      "scipy.special.specfun b'$Revision: $'\n",
      "scipy.ndimage 2.0\n",
      "scipy.optimize.minpack2 b'$Revision: $'\n",
      "scipy.sparse.linalg.isolve._iterative b'$Revision: $'\n",
      "scipy.sparse.linalg.eigen.arpack._arpack b'$Revision: $'\n",
      "scipy.optimize._lbfgsb b'$Revision: $'\n",
      "scipy.optimize._cobyla b'$Revision: $'\n",
      "scipy.optimize._slsqp b'$Revision: $'\n",
      "scipy.optimize._minpack  1.10 \n",
      "scipy.optimize.__nnls b'$Revision: $'\n",
      "scipy.linalg._interpolative b'$Revision: $'\n",
      "scipy.integrate._odepack  1.9 \n",
      "scipy.integrate._quadpack  1.13 \n",
      "scipy.integrate._ode $Id$\n",
      "scipy.integrate.vode b'$Revision: $'\n",
      "scipy.integrate._dop b'$Revision: $'\n",
      "scipy.integrate.lsoda b'$Revision: $'\n",
      "scipy.interpolate._fitpack  1.7 \n",
      "scipy.interpolate.dfitpack b'$Revision: $'\n",
      "scipy.stats.statlib b'$Revision: $'\n",
      "scipy.stats.mvn b'$Revision: $'\n",
      "sklearn.utils._joblib 1.0.0\n",
      "leidenalg 0.8.3\n",
      "igraph 0.8.3\n",
      "texttable 1.6.3\n",
      "igraph.version 0.8.3\n",
      "matplotlib 3.3.4\n",
      "pyparsing 2.4.7\n",
      "cycler 0.10.0\n",
      "kiwisolver 1.3.1\n",
      "PIL 8.1.0\n",
      "PIL._version 8.1.0\n",
      "PIL.Image 8.1.0\n",
      "xml.etree.ElementTree 1.3.0\n",
      "cffi 1.14.4\n",
      "tables 3.6.1\n",
      "numexpr 2.7.2\n",
      "legacy_api_wrap 1.2\n",
      "get_version 2.1\n",
      "scvi 0.0.0\n",
      "torch 1.8.1+cu102\n",
      "torch.version 1.8.1+cu102\n",
      "tqdm 4.56.0\n",
      "tqdm.cli 4.56.0\n",
      "tqdm.version 4.56.0\n",
      "tqdm._dist_ver 4.56.0\n",
      "ipywidgets 7.6.3\n",
      "ipywidgets._version 7.6.3\n",
      "_cffi_backend 1.14.4\n",
      "pycparser 2.20\n",
      "pycparser.ply 3.9\n",
      "pycparser.ply.yacc 3.10\n",
      "pycparser.ply.lex 3.10\n",
      "pyro 1.6.0+9e1fd393\n",
      "opt_einsum v3.3.0\n",
      "pyro._version 1.6.0+9e1fd393\n",
      "pytorch_lightning 1.2.7\n",
      "pytorch_lightning.info 1.2.7\n",
      "torchmetrics 0.2.0\n",
      "fsspec 0.8.5\n",
      "tensorboard 2.4.1\n",
      "tensorboard.version 2.4.1\n",
      "google.protobuf 3.14.0\n",
      "tensorboard.compat.tensorflow_stub stub\n",
      "tensorboard.compat.tensorflow_stub.pywrap_tensorflow 0\n",
      "seaborn 0.11.1\n",
      "seaborn.external.husl 2.1.0\n",
      "statsmodels 0.12.2\n"
     ]
    }
   ],
   "source": [
    "import sys\n",
    "for module in sys.modules:\n",
    "    try:\n",
    "        print(module,sys.modules[module].__version__)\n",
    "    except:\n",
    "        try:\n",
    "            if  type(modules[module].version) is str:\n",
    "                print(module,sys.modules[module].version)\n",
    "            else:\n",
    "                print(module,sys.modules[module].version())\n",
    "        except:\n",
    "            try:\n",
    "                print(module,sys.modules[module].VERSION)\n",
    "            except:\n",
    "                pass"
   ]
  },
  {
   "cell_type": "code",
   "execution_count": null,
   "metadata": {},
   "outputs": [],
   "source": []
  }
 ],
 "metadata": {
  "kernelspec": {
   "display_name": "Python (scvi-env2)",
   "language": "python",
   "name": "scvi-env2"
  },
  "language_info": {
   "codemirror_mode": {
    "name": "ipython",
    "version": 3
   },
   "file_extension": ".py",
   "mimetype": "text/x-python",
   "name": "python",
   "nbconvert_exporter": "python",
   "pygments_lexer": "ipython3",
   "version": "3.7.9"
  }
 },
 "nbformat": 4,
 "nbformat_minor": 4
}
